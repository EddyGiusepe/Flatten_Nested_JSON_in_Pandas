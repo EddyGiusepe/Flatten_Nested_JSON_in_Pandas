{
  "nbformat": 4,
  "nbformat_minor": 0,
  "metadata": {
    "colab": {
      "name": "Flatten_Nested_JSON.ipynb",
      "provenance": [],
      "machine_shape": "hm",
      "mount_file_id": "1cNsW4kvRF0oCbwP_Qwn3lKtmaPOsZYX4",
      "authorship_tag": "ABX9TyOA3BG/vxmPll72gelNqRE8",
      "include_colab_link": true
    },
    "kernelspec": {
      "name": "python3",
      "display_name": "Python 3"
    },
    "language_info": {
      "name": "python"
    },
    "accelerator": "TPU"
  },
  "cells": [
    {
      "cell_type": "markdown",
      "metadata": {
        "id": "view-in-github",
        "colab_type": "text"
      },
      "source": [
        "<a href=\"https://colab.research.google.com/github/EddyGiusepe/Flatten_Nested_JSON_in_Pandas/blob/main/Flatten_Nested_JSON.ipynb\" target=\"_parent\"><img src=\"https://colab.research.google.com/assets/colab-badge.svg\" alt=\"Open In Colab\"/></a>"
      ]
    },
    {
      "cell_type": "markdown",
      "source": [
        "# <h2 align='center'>**Flatten Nested JSON in Pandas**</h2> \n",
        "\n",
        "\\\\\n",
        "**Cientista de Dados Jr.:**  Dr.Eddy Giusepe Chirinos Isidro"
      ],
      "metadata": {
        "id": "nwmrH4YrAlT5"
      }
    },
    {
      "cell_type": "markdown",
      "source": [
        "Este estudo está baseado no seguinte Tutorial do Kaggle: https://www.kaggle.com/jboysen/quick-tutorial-flatten-nested-json-in-pandas/notebook.\n",
        "\n",
        "Neste link você pode descargar os Dados necessários para rodar o Script."
      ],
      "metadata": {
        "id": "66RXN-YNAuWE"
      }
    },
    {
      "cell_type": "markdown",
      "source": [
        "## Importar nossas bibliotecas"
      ],
      "metadata": {
        "id": "N28NWfQMA-oW"
      }
    },
    {
      "cell_type": "code",
      "execution_count": 1,
      "metadata": {
        "id": "o8UH0mNSARDB"
      },
      "outputs": [],
      "source": [
        "import json # JSON significa JavaScript Object Notation (Notação de Objecto JavaScript)\n",
        "import pandas as pd\n",
        "from pandas.io.json import json_normalize #pacote para achatar json em pandas df"
      ]
    },
    {
      "cell_type": "markdown",
      "source": [
        "## Carregar objeto .json"
      ],
      "metadata": {
        "id": "Ro9OqD_lBN5Q"
      }
    },
    {
      "cell_type": "code",
      "source": [
        "with open('/content/drive/MyDrive/4_EDDY_ISH_TECNOLOGIA/3_Data_Science_Augusto_Eddy/raw_nyc_phil.json', 'r') as f:\n",
        "    json_datos = json.load(f)"
      ],
      "metadata": {
        "id": "CsIakuzcBE61"
      },
      "execution_count": 4,
      "outputs": []
    },
    {
      "cell_type": "code",
      "source": [
        "nycphil = json_normalize(json_datos['programs'])\n",
        "nycphil.head(3)"
      ],
      "metadata": {
        "colab": {
          "base_uri": "https://localhost:8080/",
          "height": 176
        },
        "id": "7fJupnJoBUx_",
        "outputId": "79d4e1e8-76bd-4b67-e75d-67aae95651eb"
      },
      "execution_count": 9,
      "outputs": [
        {
          "output_type": "stream",
          "name": "stderr",
          "text": [
            "/usr/local/lib/python3.7/dist-packages/ipykernel_launcher.py:1: FutureWarning: pandas.io.json.json_normalize is deprecated, use pandas.json_normalize instead\n",
            "  \"\"\"Entry point for launching an IPython kernel.\n"
          ]
        },
        {
          "output_type": "execute_result",
          "data": {
            "text/html": [
              "<div>\n",
              "<style scoped>\n",
              "    .dataframe tbody tr th:only-of-type {\n",
              "        vertical-align: middle;\n",
              "    }\n",
              "\n",
              "    .dataframe tbody tr th {\n",
              "        vertical-align: top;\n",
              "    }\n",
              "\n",
              "    .dataframe thead th {\n",
              "        text-align: right;\n",
              "    }\n",
              "</style>\n",
              "<table border=\"1\" class=\"dataframe\">\n",
              "  <thead>\n",
              "    <tr style=\"text-align: right;\">\n",
              "      <th></th>\n",
              "      <th>season</th>\n",
              "      <th>orchestra</th>\n",
              "      <th>concerts</th>\n",
              "      <th>programID</th>\n",
              "      <th>works</th>\n",
              "      <th>id</th>\n",
              "    </tr>\n",
              "  </thead>\n",
              "  <tbody>\n",
              "    <tr>\n",
              "      <th>0</th>\n",
              "      <td>1842-43</td>\n",
              "      <td>New York Philharmonic</td>\n",
              "      <td>[{'Date': '1842-12-07T05:00:00Z', 'eventType':...</td>\n",
              "      <td>3853</td>\n",
              "      <td>[{'workTitle': 'SYMPHONY NO. 5 IN C MINOR, OP....</td>\n",
              "      <td>38e072a7-8fc9-4f9a-8eac-3957905c0002</td>\n",
              "    </tr>\n",
              "    <tr>\n",
              "      <th>1</th>\n",
              "      <td>1842-43</td>\n",
              "      <td>New York Philharmonic</td>\n",
              "      <td>[{'Date': '1843-02-18T05:00:00Z', 'eventType':...</td>\n",
              "      <td>5178</td>\n",
              "      <td>[{'workTitle': 'SYMPHONY NO. 3 IN E FLAT MAJOR...</td>\n",
              "      <td>c7b2b95c-5e0b-431c-a340-5b37fc860b34</td>\n",
              "    </tr>\n",
              "    <tr>\n",
              "      <th>2</th>\n",
              "      <td>1842-43</td>\n",
              "      <td>Musicians from the New York Philharmonic</td>\n",
              "      <td>[{'Date': '1843-04-07T05:00:00Z', 'eventType':...</td>\n",
              "      <td>10785</td>\n",
              "      <td>[{'workTitle': 'EGMONT, OP.84', 'composerName'...</td>\n",
              "      <td>894e1a52-1ae5-4fa7-aec0-b99997555a37</td>\n",
              "    </tr>\n",
              "  </tbody>\n",
              "</table>\n",
              "</div>"
            ],
            "text/plain": [
              "    season  ...                                    id\n",
              "0  1842-43  ...  38e072a7-8fc9-4f9a-8eac-3957905c0002\n",
              "1  1842-43  ...  c7b2b95c-5e0b-431c-a340-5b37fc860b34\n",
              "2  1842-43  ...  894e1a52-1ae5-4fa7-aec0-b99997555a37\n",
              "\n",
              "[3 rows x 6 columns]"
            ]
          },
          "metadata": {},
          "execution_count": 9
        }
      ]
    },
    {
      "cell_type": "markdown",
      "source": [
        "## Nossos Dados como um DataFrame"
      ],
      "metadata": {
        "id": "8FqbW9vZB-wK"
      }
    },
    {
      "cell_type": "code",
      "source": [
        "df_nycphil = pd.DataFrame(json_datos[\"programs\"])"
      ],
      "metadata": {
        "id": "cz2Ky4nOB4Z5"
      },
      "execution_count": 10,
      "outputs": []
    },
    {
      "cell_type": "code",
      "source": [
        "df_nycphil.sample(5)"
      ],
      "metadata": {
        "colab": {
          "base_uri": "https://localhost:8080/",
          "height": 202
        },
        "id": "qpdklE9CCIWG",
        "outputId": "b486399a-3c3c-4818-82d0-a01abc3006d2"
      },
      "execution_count": 13,
      "outputs": [
        {
          "output_type": "execute_result",
          "data": {
            "text/html": [
              "<div>\n",
              "<style scoped>\n",
              "    .dataframe tbody tr th:only-of-type {\n",
              "        vertical-align: middle;\n",
              "    }\n",
              "\n",
              "    .dataframe tbody tr th {\n",
              "        vertical-align: top;\n",
              "    }\n",
              "\n",
              "    .dataframe thead th {\n",
              "        text-align: right;\n",
              "    }\n",
              "</style>\n",
              "<table border=\"1\" class=\"dataframe\">\n",
              "  <thead>\n",
              "    <tr style=\"text-align: right;\">\n",
              "      <th></th>\n",
              "      <th>season</th>\n",
              "      <th>orchestra</th>\n",
              "      <th>concerts</th>\n",
              "      <th>programID</th>\n",
              "      <th>works</th>\n",
              "      <th>id</th>\n",
              "    </tr>\n",
              "  </thead>\n",
              "  <tbody>\n",
              "    <tr>\n",
              "      <th>13071</th>\n",
              "      <td>2010-11</td>\n",
              "      <td>New York Philharmonic</td>\n",
              "      <td>[{'Date': '2011-04-15T04:00:00Z', 'eventType':...</td>\n",
              "      <td>13574</td>\n",
              "      <td>[{'workTitle': 'PRELUDES, LES (SYMPHONIC POEM ...</td>\n",
              "      <td>7d03ffd5-b59b-456a-bcba-621f70339459</td>\n",
              "    </tr>\n",
              "    <tr>\n",
              "      <th>10551</th>\n",
              "      <td>1987-88</td>\n",
              "      <td>New York Philharmonic</td>\n",
              "      <td>[{'Date': '1988-08-12T04:00:00Z', 'eventType':...</td>\n",
              "      <td>4210</td>\n",
              "      <td>[{'workTitle': 'SYMPHONY NO. 2, B FLAT MAJOR, ...</td>\n",
              "      <td>824719b5-0f33-4c92-9046-74c5f7180ae7</td>\n",
              "    </tr>\n",
              "    <tr>\n",
              "      <th>8361</th>\n",
              "      <td>1964-65</td>\n",
              "      <td>New York Philharmonic</td>\n",
              "      <td>[{'Date': '1964-10-22T04:00:00Z', 'eventType':...</td>\n",
              "      <td>2081</td>\n",
              "      <td>[{'workTitle': 'SINFONIA DA REQUIEM, OP. 20', ...</td>\n",
              "      <td>39e624cf-49d4-49af-a19f-11bbd820808c</td>\n",
              "    </tr>\n",
              "    <tr>\n",
              "      <th>13597</th>\n",
              "      <td>2014-15</td>\n",
              "      <td>New York Philharmonic</td>\n",
              "      <td>[{'Date': '2015-03-12T04:00:00Z', 'eventType':...</td>\n",
              "      <td>12519</td>\n",
              "      <td>[{'workTitle': 'SYMPHONY NO. 1 IN C MAJOR, OP....</td>\n",
              "      <td>dca306d6-1fc9-417f-ba5a-8fd355c23fde</td>\n",
              "    </tr>\n",
              "    <tr>\n",
              "      <th>1701</th>\n",
              "      <td>1917-18</td>\n",
              "      <td>New York Symphony</td>\n",
              "      <td>[{'Date': '1917-12-15T05:00:00Z', 'eventType':...</td>\n",
              "      <td>10392</td>\n",
              "      <td>[{'workTitle': 'SYMPHONY NO. 2 IN D MAJOR, OP....</td>\n",
              "      <td>505aa246-5bc8-4add-ae7a-3b1fae8acb33</td>\n",
              "    </tr>\n",
              "  </tbody>\n",
              "</table>\n",
              "</div>"
            ],
            "text/plain": [
              "        season  ...                                    id\n",
              "13071  2010-11  ...  7d03ffd5-b59b-456a-bcba-621f70339459\n",
              "10551  1987-88  ...  824719b5-0f33-4c92-9046-74c5f7180ae7\n",
              "8361   1964-65  ...  39e624cf-49d4-49af-a19f-11bbd820808c\n",
              "13597  2014-15  ...  dca306d6-1fc9-417f-ba5a-8fd355c23fde\n",
              "1701   1917-18  ...  505aa246-5bc8-4add-ae7a-3b1fae8acb33\n",
              "\n",
              "[5 rows x 6 columns]"
            ]
          },
          "metadata": {},
          "execution_count": 13
        }
      ]
    },
    {
      "cell_type": "markdown",
      "source": [
        "Vemos (pelo menos) duas colunas aninhadas, concerts e works. A documentação do Json_normalize nos dá algumas dicas de como nivelar ainda mais os dados semiestruturados. Vamos desempacotar a coluna works em um dataframe independente. Também pegaremos as colunas planas para que possamos fazer análises. Os parâmetros aqui são um pouco heterodoxos, veja se você consegue entender o que está acontecendo."
      ],
      "metadata": {
        "id": "HmSenDYzMq59"
      }
    },
    {
      "cell_type": "code",
      "source": [
        "works_data = json_normalize(data=json_datos['programs'], record_path='works',\n",
        "                            meta=['id', 'orchestra','programID', 'season'])\n"
      ],
      "metadata": {
        "colab": {
          "base_uri": "https://localhost:8080/"
        },
        "id": "9hbLoGW2CJ9y",
        "outputId": "995706d4-8c51-4291-df50-13c25d888552"
      },
      "execution_count": 15,
      "outputs": [
        {
          "output_type": "stream",
          "name": "stderr",
          "text": [
            "/usr/local/lib/python3.7/dist-packages/ipykernel_launcher.py:2: FutureWarning: pandas.io.json.json_normalize is deprecated, use pandas.json_normalize instead\n",
            "  \n"
          ]
        }
      ]
    },
    {
      "cell_type": "code",
      "source": [
        "works_data.shape"
      ],
      "metadata": {
        "colab": {
          "base_uri": "https://localhost:8080/"
        },
        "id": "GpUqDX-aNAFF",
        "outputId": "282a9e16-464a-4753-d646-e3dad424dcec"
      },
      "execution_count": 16,
      "outputs": [
        {
          "output_type": "execute_result",
          "data": {
            "text/plain": [
              "(82793, 15)"
            ]
          },
          "metadata": {},
          "execution_count": 16
        }
      ]
    },
    {
      "cell_type": "code",
      "source": [
        "works_data.head(5)\n"
      ],
      "metadata": {
        "colab": {
          "base_uri": "https://localhost:8080/",
          "height": 335
        },
        "id": "caLtDr3DM35x",
        "outputId": "84d7bc7f-c6d6-4da8-abbc-e4e9133530f7"
      },
      "execution_count": 19,
      "outputs": [
        {
          "output_type": "execute_result",
          "data": {
            "text/html": [
              "<div>\n",
              "<style scoped>\n",
              "    .dataframe tbody tr th:only-of-type {\n",
              "        vertical-align: middle;\n",
              "    }\n",
              "\n",
              "    .dataframe tbody tr th {\n",
              "        vertical-align: top;\n",
              "    }\n",
              "\n",
              "    .dataframe thead th {\n",
              "        text-align: right;\n",
              "    }\n",
              "</style>\n",
              "<table border=\"1\" class=\"dataframe\">\n",
              "  <thead>\n",
              "    <tr style=\"text-align: right;\">\n",
              "      <th></th>\n",
              "      <th>workTitle</th>\n",
              "      <th>conductorName</th>\n",
              "      <th>ID</th>\n",
              "      <th>soloists</th>\n",
              "      <th>composerName</th>\n",
              "      <th>movement</th>\n",
              "      <th>interval</th>\n",
              "      <th>movement.em</th>\n",
              "      <th>movement._</th>\n",
              "      <th>workTitle.em</th>\n",
              "      <th>workTitle._</th>\n",
              "      <th>id</th>\n",
              "      <th>orchestra</th>\n",
              "      <th>programID</th>\n",
              "      <th>season</th>\n",
              "    </tr>\n",
              "  </thead>\n",
              "  <tbody>\n",
              "    <tr>\n",
              "      <th>0</th>\n",
              "      <td>SYMPHONY NO. 5 IN C MINOR, OP.67</td>\n",
              "      <td>Hill, Ureli Corelli</td>\n",
              "      <td>52446*</td>\n",
              "      <td>[]</td>\n",
              "      <td>Beethoven,  Ludwig  van</td>\n",
              "      <td>NaN</td>\n",
              "      <td>NaN</td>\n",
              "      <td>NaN</td>\n",
              "      <td>NaN</td>\n",
              "      <td>NaN</td>\n",
              "      <td>NaN</td>\n",
              "      <td>38e072a7-8fc9-4f9a-8eac-3957905c0002</td>\n",
              "      <td>New York Philharmonic</td>\n",
              "      <td>3853</td>\n",
              "      <td>1842-43</td>\n",
              "    </tr>\n",
              "    <tr>\n",
              "      <th>1</th>\n",
              "      <td>OBERON</td>\n",
              "      <td>Timm, Henry C.</td>\n",
              "      <td>8834*4</td>\n",
              "      <td>[{'soloistName': 'Otto, Antoinette', 'soloistR...</td>\n",
              "      <td>Weber,  Carl  Maria Von</td>\n",
              "      <td>\"Ozean, du Ungeheuer\" (Ocean, thou mighty mons...</td>\n",
              "      <td>NaN</td>\n",
              "      <td>NaN</td>\n",
              "      <td>NaN</td>\n",
              "      <td>NaN</td>\n",
              "      <td>NaN</td>\n",
              "      <td>38e072a7-8fc9-4f9a-8eac-3957905c0002</td>\n",
              "      <td>New York Philharmonic</td>\n",
              "      <td>3853</td>\n",
              "      <td>1842-43</td>\n",
              "    </tr>\n",
              "    <tr>\n",
              "      <th>2</th>\n",
              "      <td>QUINTET, PIANO, D MINOR, OP. 74</td>\n",
              "      <td>NaN</td>\n",
              "      <td>3642*</td>\n",
              "      <td>[{'soloistName': 'Scharfenberg, William', 'sol...</td>\n",
              "      <td>Hummel,  Johann</td>\n",
              "      <td>NaN</td>\n",
              "      <td>NaN</td>\n",
              "      <td>NaN</td>\n",
              "      <td>NaN</td>\n",
              "      <td>NaN</td>\n",
              "      <td>NaN</td>\n",
              "      <td>38e072a7-8fc9-4f9a-8eac-3957905c0002</td>\n",
              "      <td>New York Philharmonic</td>\n",
              "      <td>3853</td>\n",
              "      <td>1842-43</td>\n",
              "    </tr>\n",
              "    <tr>\n",
              "      <th>3</th>\n",
              "      <td>NaN</td>\n",
              "      <td>NaN</td>\n",
              "      <td>0*</td>\n",
              "      <td>[]</td>\n",
              "      <td>NaN</td>\n",
              "      <td>NaN</td>\n",
              "      <td>Intermission</td>\n",
              "      <td>NaN</td>\n",
              "      <td>NaN</td>\n",
              "      <td>NaN</td>\n",
              "      <td>NaN</td>\n",
              "      <td>38e072a7-8fc9-4f9a-8eac-3957905c0002</td>\n",
              "      <td>New York Philharmonic</td>\n",
              "      <td>3853</td>\n",
              "      <td>1842-43</td>\n",
              "    </tr>\n",
              "    <tr>\n",
              "      <th>4</th>\n",
              "      <td>OBERON</td>\n",
              "      <td>Etienne, Denis G.</td>\n",
              "      <td>8834*3</td>\n",
              "      <td>[]</td>\n",
              "      <td>Weber,  Carl  Maria Von</td>\n",
              "      <td>Overture</td>\n",
              "      <td>NaN</td>\n",
              "      <td>NaN</td>\n",
              "      <td>NaN</td>\n",
              "      <td>NaN</td>\n",
              "      <td>NaN</td>\n",
              "      <td>38e072a7-8fc9-4f9a-8eac-3957905c0002</td>\n",
              "      <td>New York Philharmonic</td>\n",
              "      <td>3853</td>\n",
              "      <td>1842-43</td>\n",
              "    </tr>\n",
              "  </tbody>\n",
              "</table>\n",
              "</div>"
            ],
            "text/plain": [
              "                          workTitle        conductorName  ... programID   season\n",
              "0  SYMPHONY NO. 5 IN C MINOR, OP.67  Hill, Ureli Corelli  ...      3853  1842-43\n",
              "1                            OBERON       Timm, Henry C.  ...      3853  1842-43\n",
              "2   QUINTET, PIANO, D MINOR, OP. 74                  NaN  ...      3853  1842-43\n",
              "3                               NaN                  NaN  ...      3853  1842-43\n",
              "4                            OBERON    Etienne, Denis G.  ...      3853  1842-43\n",
              "\n",
              "[5 rows x 15 columns]"
            ]
          },
          "metadata": {},
          "execution_count": 19
        }
      ]
    },
    {
      "cell_type": "markdown",
      "source": [
        "Excelente!\n",
        "\n",
        "* passou o caminho de dados do objeto json d[programs]\n",
        "* passou o caminho do record dentro do objeto que queríamos parsear funciona\n",
        "* passou os metadados pai que queríamos anexar\n",
        "\n",
        "Sua vez: você pode descompactar os dados dos concerts?\n",
        "\n",
        "\\\\\n",
        "**Dados profundamente aninhados**\n",
        "\n",
        "E daí se você encontrar uma matriz aninhada dentro da sua matriz aninhada? Se você voltar e olhar para works_data achatados,\n",
        "você pode ver uma segunda coluna aninhada, \"soloists\". Felizmente, os documentos json_normalize mostram que você pode passar\n",
        "uma lista de colunas, em vez de uma única coluna, para o caminho do record para unflatten json profundamente aninhado.\n",
        "\n",
        "Vamos flatten (achatar) os dados de 'soloists' aqui, passando uma lista. Uma vez que os soloists estão aninhados em works, podemos passar isso como:"
      ],
      "metadata": {
        "id": "GTBxU_cPOAYT"
      }
    },
    {
      "cell_type": "code",
      "source": [
        "soloist_data = json_normalize(data=json_datos['programs'], record_path=['works', 'soloists'],\n",
        "                              meta=['id'])\n"
      ],
      "metadata": {
        "colab": {
          "base_uri": "https://localhost:8080/"
        },
        "id": "IMkg414NNDPW",
        "outputId": "05f95d00-f36c-4669-971f-fa03cba991bb"
      },
      "execution_count": 21,
      "outputs": [
        {
          "output_type": "stream",
          "name": "stderr",
          "text": [
            "/usr/local/lib/python3.7/dist-packages/ipykernel_launcher.py:2: FutureWarning: pandas.io.json.json_normalize is deprecated, use pandas.json_normalize instead\n",
            "  \n"
          ]
        }
      ]
    },
    {
      "cell_type": "code",
      "source": [
        "soloist_data.shape"
      ],
      "metadata": {
        "colab": {
          "base_uri": "https://localhost:8080/"
        },
        "id": "ByGXJersOV0_",
        "outputId": "2578ffa3-3dac-43cc-823b-f93a80ae9022"
      },
      "execution_count": 23,
      "outputs": [
        {
          "output_type": "execute_result",
          "data": {
            "text/plain": [
              "(56194, 4)"
            ]
          },
          "metadata": {},
          "execution_count": 23
        }
      ]
    },
    {
      "cell_type": "code",
      "source": [
        "soloist_data.head(6)"
      ],
      "metadata": {
        "colab": {
          "base_uri": "https://localhost:8080/",
          "height": 232
        },
        "id": "TZNYVY8-OOFg",
        "outputId": "1f56adea-0de1-46d7-a15b-771d7ec7b59b"
      },
      "execution_count": 24,
      "outputs": [
        {
          "output_type": "execute_result",
          "data": {
            "text/html": [
              "<div>\n",
              "<style scoped>\n",
              "    .dataframe tbody tr th:only-of-type {\n",
              "        vertical-align: middle;\n",
              "    }\n",
              "\n",
              "    .dataframe tbody tr th {\n",
              "        vertical-align: top;\n",
              "    }\n",
              "\n",
              "    .dataframe thead th {\n",
              "        text-align: right;\n",
              "    }\n",
              "</style>\n",
              "<table border=\"1\" class=\"dataframe\">\n",
              "  <thead>\n",
              "    <tr style=\"text-align: right;\">\n",
              "      <th></th>\n",
              "      <th>soloistName</th>\n",
              "      <th>soloistRoles</th>\n",
              "      <th>soloistInstrument</th>\n",
              "      <th>id</th>\n",
              "    </tr>\n",
              "  </thead>\n",
              "  <tbody>\n",
              "    <tr>\n",
              "      <th>0</th>\n",
              "      <td>Otto, Antoinette</td>\n",
              "      <td>S</td>\n",
              "      <td>Soprano</td>\n",
              "      <td>38e072a7-8fc9-4f9a-8eac-3957905c0002</td>\n",
              "    </tr>\n",
              "    <tr>\n",
              "      <th>1</th>\n",
              "      <td>Scharfenberg, William</td>\n",
              "      <td>A</td>\n",
              "      <td>Piano</td>\n",
              "      <td>38e072a7-8fc9-4f9a-8eac-3957905c0002</td>\n",
              "    </tr>\n",
              "    <tr>\n",
              "      <th>2</th>\n",
              "      <td>Hill, Ureli Corelli</td>\n",
              "      <td>A</td>\n",
              "      <td>Violin</td>\n",
              "      <td>38e072a7-8fc9-4f9a-8eac-3957905c0002</td>\n",
              "    </tr>\n",
              "    <tr>\n",
              "      <th>3</th>\n",
              "      <td>Derwort, G. H.</td>\n",
              "      <td>A</td>\n",
              "      <td>Viola</td>\n",
              "      <td>38e072a7-8fc9-4f9a-8eac-3957905c0002</td>\n",
              "    </tr>\n",
              "    <tr>\n",
              "      <th>4</th>\n",
              "      <td>Boucher, Alfred</td>\n",
              "      <td>A</td>\n",
              "      <td>Cello</td>\n",
              "      <td>38e072a7-8fc9-4f9a-8eac-3957905c0002</td>\n",
              "    </tr>\n",
              "    <tr>\n",
              "      <th>5</th>\n",
              "      <td>Rosier, F. W.</td>\n",
              "      <td>A</td>\n",
              "      <td>Contrabass</td>\n",
              "      <td>38e072a7-8fc9-4f9a-8eac-3957905c0002</td>\n",
              "    </tr>\n",
              "  </tbody>\n",
              "</table>\n",
              "</div>"
            ],
            "text/plain": [
              "             soloistName  ...                                    id\n",
              "0       Otto, Antoinette  ...  38e072a7-8fc9-4f9a-8eac-3957905c0002\n",
              "1  Scharfenberg, William  ...  38e072a7-8fc9-4f9a-8eac-3957905c0002\n",
              "2    Hill, Ureli Corelli  ...  38e072a7-8fc9-4f9a-8eac-3957905c0002\n",
              "3         Derwort, G. H.  ...  38e072a7-8fc9-4f9a-8eac-3957905c0002\n",
              "4        Boucher, Alfred  ...  38e072a7-8fc9-4f9a-8eac-3957905c0002\n",
              "5          Rosier, F. W.  ...  38e072a7-8fc9-4f9a-8eac-3957905c0002\n",
              "\n",
              "[6 rows x 4 columns]"
            ]
          },
          "metadata": {},
          "execution_count": 24
        }
      ]
    },
    {
      "cell_type": "markdown",
      "source": [
        "Link para ler um arquivo CSV utilizando a biblioteca Pandas:\n",
        "\n",
        "* https://medium.com/@henrique.gelatti/diferentes-formas-de-ler-um-arquivo-csv-utilizando-a-biblioteca-pandas-dbeab96555ba"
      ],
      "metadata": {
        "id": "PASMeKSGPTLe"
      }
    }
  ]
}